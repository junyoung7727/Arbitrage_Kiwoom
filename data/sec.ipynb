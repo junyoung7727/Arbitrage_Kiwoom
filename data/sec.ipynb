{
 "cells": [
  {
   "cell_type": "code",
   "execution_count": 25,
   "id": "initial_id",
   "metadata": {
    "collapsed": true,
    "ExecuteTime": {
     "end_time": "2024-09-01T05:24:24.488094Z",
     "start_time": "2024-09-01T05:24:19.452996Z"
    }
   },
   "outputs": [
    {
     "name": "stdout",
     "output_type": "stream",
     "text": [
      "Total companies found: 957947\n",
      "Sample data: [{'Company Name': '!J INC', 'CIK': '0001438823'}, {'Company Name': '#1 A LIFESAFER HOLDINGS, INC.', 'CIK': '0001509607'}, {'Company Name': '#1 ARIZONA DISCOUNT PROPERTIES LLC', 'CIK': '0001457512'}, {'Company Name': '#1 PAINTBALL CORP', 'CIK': '0001433777'}, {'Company Name': '$ LLC', 'CIK': '0001427189'}]\n"
     ]
    }
   ],
   "source": [
    "import requests\n",
    "from bs4 import BeautifulSoup\n",
    "import csv\n",
    "\n",
    "# SEC EDGAR search URL for company tickers\n",
    "url = 'https://www.sec.gov/Archives/edgar/cik-lookup-data.txt'\n",
    "\n",
    "# Define headers for the request\n",
    "headers = {\n",
    "    'User-Agent': 'junghae2017@gmail.com',\n",
    "    'Accept-Encoding': 'gzip, deflate'\n",
    "}\n",
    "\n",
    "try:\n",
    "    # Send GET request to EDGAR\n",
    "    response = requests.get(url, headers=headers)\n",
    "    response.raise_for_status()\n",
    "\n",
    "    # Parse the plain text response\n",
    "    text_data = response.text\n",
    "\n",
    "    # Split text data into lines\n",
    "    lines = text_data.splitlines()\n",
    "\n",
    "    # Create a list to store company data\n",
    "    company_data = []\n",
    "\n",
    "    for line in lines:\n",
    "        if line.strip():  # Skip empty lines\n",
    "            # Split line by ':' to separate company name and CIK\n",
    "            parts = line.split(':')\n",
    "            company_name = parts[0].strip()\n",
    "            cik = parts[1].strip()\n",
    "            company_data.append({'Company Name': company_name, 'CIK': cik})\n",
    "\n",
    "    # Optionally, write data to a CSV file\n",
    "    with open('company_cik_codes.csv', 'w', newline='', encoding='utf-8') as csvfile:\n",
    "        fieldnames = ['Company Name', 'CIK']\n",
    "        writer = csv.DictWriter(csvfile, fieldnames=fieldnames)\n",
    "\n",
    "        writer.writeheader()\n",
    "        for company in company_data:\n",
    "            writer.writerow(company)\n",
    "\n",
    "    print(f\"Total companies found: {len(company_data)}\")\n",
    "    print(f\"Sample data: {company_data[:5]}\")  # Print the first 5 entries\n",
    "\n",
    "except requests.exceptions.HTTPError as e:\n",
    "    print(f\"HTTP error occurred: {e}\")\n",
    "except requests.exceptions.RequestException as e:\n",
    "    print(f\"Request error occurred: {e}\")\n"
   ]
  },
  {
   "cell_type": "code",
   "outputs": [
    {
     "name": "stdout",
     "output_type": "stream",
     "text": [
      "<!DOCTYPE html PUBLIC \"-//W3C//DTD XHTML 1.0 Transitional//EN\" \"http://www.w3.org/TR/xhtml1/DTD/xhtml1-transitional.dtd\">\n",
      "<html xmlns=\"http://www.w3.org/1999/xhtml\">\n",
      "<head>\n",
      "<meta http-equiv=\"Content-Type\" content=\"text/html; charset=UTF-8\" />\n",
      "<title>SEC.gov | Request Rate Threshold Exceeded</title>\n",
      "<style>\n",
      "html {height: 100%}\n",
      "body {height: 100%; margin:0; padding:0;}\n",
      "#header {background-color:#003968; color:#fff; padding:15px 20px 10px 20px;font-family:Arial, Helvetica, sans-serif; font-size:20px; border-bottom:solid 5px #000;}\n",
      "#footer {background-color:#003968; color:#fff; padding:15px 20px;font-family:Arial, Helvetica, sans-serif; font-size:20px;}\n",
      "#content {max-width:650px;margin:60px auto; padding:0 20px 100px 20px; background-image:url(seal_bw.png);background-repeat:no-repeat;background-position:50% 100%;}\n",
      "h1 {font-family:Georgia, Times, serif; font-size:20px;}\n",
      "h2 {text-align:center; font-family:Georgia, Times, serif; font-size:20px; width:100%; border-bottom:solid #999 1px;padding-bottom:10px; margin-bottom:20px;}\n",
      "h3 {font-family:Georgia, Times, serif; font-size:16px; margin:25px 0 0 0;}\n",
      "p {font-family:Verdana, Geneva, sans-serif;font-size:14px;line-height:1.3;}\n",
      ".grey_box {background-color:#eee; padding:5px 40px 20px 40px;margin-top:75px;}\n",
      ".grey_box p {font-size:12px;line-he\n"
     ]
    }
   ],
   "source": [
    "# Import requests to retrive Web Urls example HTML. TXT\n",
    "import requests\n",
    "\n",
    "# Import BeautifulSoup\n",
    "from bs4 import BeautifulSoup\n",
    "\n",
    "# import re module for REGEXes\n",
    "import re\n",
    "\n",
    "# import pandas\n",
    "import pandas as pd\n",
    "\n",
    "r = requests.get('https://www.sec.gov/Archives/edgar/data/320193/000032019318000145/0000320193-18-000145.txt')\n",
    "raw_10k = r.text\n",
    "print(raw_10k[0:1300])"
   ],
   "metadata": {
    "collapsed": false,
    "ExecuteTime": {
     "end_time": "2024-09-01T05:20:15.484155Z",
     "start_time": "2024-09-01T05:20:14.040416Z"
    }
   },
   "id": "280e05b1f3d34359",
   "execution_count": 24
  },
  {
   "cell_type": "code",
   "outputs": [],
   "source": [
    "import requests\n",
    "import pandas as pd\n",
    "\n",
    "url = 'https://www.sec.gov/files/company_tickers_exchange.json'\n",
    "headers = {'User-Agent': 'junghae2017@gmail.com'}\n",
    "res = requests.get(url, headers=headers)\n",
    "cik_list = res.json()\n",
    "\n",
    "cik_df = pd.DataFrame(cik_list['data'], columns=cik_list['fields'])\n",
    "# cik_df['cik'] = str(cik_df['cik'])\n",
    "\n",
    "\n",
    "print(cik_df)\n",
    "\n",
    "tic = 'SLXNW'\n",
    "cik = cik_df[cik_df['ticker']==tic]['cik'].iloc[0].astype(str)\n",
    "cik = cik.zfill(10)\n",
    "\n",
    "# API에 요청 보내기\n",
    "url = f\"https://data.sec.gov/submissions/CIK{cik}.json\"\n",
    "response = requests.get(url, headers=headers)\n",
    "# 응답 데이터 확인\n",
    "data = response.json()\n",
    "df_filing = pd.DataFrame(data['filings']['recent'])\n",
    "print(df_filing)"
   ],
   "metadata": {
    "collapsed": false,
    "is_executing": true
   },
   "id": "4c01c3152b228ce6",
   "execution_count": null
  }
 ],
 "metadata": {
  "kernelspec": {
   "display_name": "Python 3",
   "language": "python",
   "name": "python3"
  },
  "language_info": {
   "codemirror_mode": {
    "name": "ipython",
    "version": 2
   },
   "file_extension": ".py",
   "mimetype": "text/x-python",
   "name": "python",
   "nbconvert_exporter": "python",
   "pygments_lexer": "ipython2",
   "version": "2.7.6"
  }
 },
 "nbformat": 4,
 "nbformat_minor": 5
}
